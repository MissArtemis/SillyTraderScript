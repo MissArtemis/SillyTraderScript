{
 "cells": [
  {
   "cell_type": "code",
   "execution_count": 49,
   "metadata": {
    "collapsed": true
   },
   "outputs": [],
   "source": [
    "import tushare as ts\n",
    "ts.set_token('8df6b825b87018ded5c09457e749cd1430d60febc9ab45d699eb0aab')\n",
    "pro = ts.pro_api()"
   ]
  },
  {
   "cell_type": "code",
   "execution_count": 50,
   "outputs": [
    {
     "name": "stdout",
     "output_type": "stream",
     "text": [
      "        ts_code  symbol      name area industry market list_date\n",
      "0     000001.SZ  000001      平安银行   深圳       银行     主板  19910403\n",
      "1     000002.SZ  000002       万科A   深圳     全国地产     主板  19910129\n",
      "2     000004.SZ  000004      国华网安   深圳      互联网     主板  19910114\n",
      "3     000005.SZ  000005      世纪星源   深圳     环境保护     主板  19901210\n",
      "4     000006.SZ  000006      深振业A   深圳     区域地产     主板  19920427\n",
      "...         ...     ...       ...  ...      ...    ...       ...\n",
      "4169  688777.SH  688777      中控技术   浙江     软件服务    科创板  20201124\n",
      "4170  688788.SH  688788      科思科技   深圳     通信设备    科创板  20201022\n",
      "4171  688819.SH  688819      天能股份   浙江     电气设备    科创板  20210118\n",
      "4172  688981.SH  688981    中芯国际-U   上海      半导体    科创板  20200716\n",
      "4173  689009.SH  689009  九号公司-UWD   北京     专用机械    CDR  20201029\n",
      "\n",
      "[4174 rows x 7 columns]\n"
     ]
    }
   ],
   "source": [
    "# Start get stock info\n",
    "stockBasic = pro.query('stock_basic')\n",
    "print(stockBasic)"
   ],
   "metadata": {
    "collapsed": false,
    "pycharm": {
     "name": "#%%\n"
    }
   }
  },
  {
   "cell_type": "code",
   "execution_count": 51,
   "outputs": [],
   "source": [
    "#write into HDFS\n",
    "from pyspark.sql import SparkSession\n",
    "from pyspark.sql import SQLContext\n",
    "spark = SparkSession.builder.appName(\"getData\").enableHiveSupport().getOrCreate()\n",
    "stockBasicDF = spark.createDataFrame(stockBasic)\n",
    "stockBasicDF.write.mode('overwrite').parquet(\"hdfs://localhost:9999/user/stock/stock_basic\")"
   ],
   "metadata": {
    "collapsed": false,
    "pycharm": {
     "name": "#%%\n"
    }
   }
  },
  {
   "cell_type": "code",
   "execution_count": 52,
   "outputs": [
    {
     "name": "stdout",
     "output_type": "stream",
     "text": [
      "     ts_code exchange  reg_capital province city  \\\n",
      "0  601318.SH      SSE  1828024.141       广东  深圳市   \n",
      "\n",
      "                                        introduction  \\\n",
      "0  公司于1988年诞生于深圳蛇口，是中国第一家股份制保险企业，至今已发展成为融保险、银行、投资...   \n",
      "\n",
      "                                      business_scope  employees  \\\n",
      "0  (一)投资保险企业；(二)监督管理控股投资企业的各种国内、国际业务；(三)开展保险资金运用业...     372194   \n",
      "\n",
      "                                   main_business  \n",
      "0  主营业务:以保险业务为核心,以统一品牌向客户提供包括保险,银行,证券,信托等多元化金融服务  \n"
     ]
    }
   ],
   "source": [
    "PA_basic = pro.query(\"stock_company\",ts_code = '601318.SH', fields=\"ts_code, exchange, reg_capital, province, city, introduction, employees, main_business, business_scope\")\n",
    "print(PA_basic)\n",
    "PA_basic_df = spark.createDataFrame(PA_basic)\n",
    "PA_basic_df.write.mode('overwrite').parquet(\"hdfs://localhost:9999/user/stock/pa_basic\")"
   ],
   "metadata": {
    "collapsed": false,
    "pycharm": {
     "name": "#%%\n"
    }
   }
  },
  {
   "cell_type": "code",
   "execution_count": 53,
   "outputs": [
    {
     "name": "stdout",
     "output_type": "stream",
     "text": [
      "        ts_code trade_date   open   high    low  close  pre_close  change  \\\n",
      "0     601318.SH   20210208  79.73  80.43  78.28  78.57      79.72   -1.15   \n",
      "1     601318.SH   20210205  80.00  80.28  78.61  79.72      79.62    0.10   \n",
      "2     601318.SH   20210204  78.00  80.32  77.70  79.62      76.54    3.08   \n",
      "3     601318.SH   20210203  77.74  77.74  75.30  76.54      78.18   -1.64   \n",
      "4     601318.SH   20210202  79.28  79.45  77.95  78.18      79.27   -1.09   \n",
      "...         ...        ...    ...    ...    ...    ...        ...     ...   \n",
      "3325  601318.SH   20070307  45.29  46.90  44.91  46.48      45.25    1.23   \n",
      "3326  601318.SH   20070306  44.00  46.00  43.75  45.25      44.38    0.87   \n",
      "3327  601318.SH   20070305  45.98  46.17  43.53  44.38      46.41   -2.03   \n",
      "3328  601318.SH   20070302  47.00  47.44  45.88  46.41      46.79   -0.38   \n",
      "3329  601318.SH   20070301  50.00  50.97  45.80  46.79      33.80   12.99   \n",
      "\n",
      "      pct_chg         vol        amount  \n",
      "0     -1.4425   796546.99  6.286929e+06  \n",
      "1      0.1256   845572.25  6.724535e+06  \n",
      "2      4.0240  1416547.71  1.120072e+07  \n",
      "3     -2.0977  1343842.98  1.025548e+07  \n",
      "4     -1.3750   988364.47  7.742175e+06  \n",
      "...       ...         ...           ...  \n",
      "3325   2.7200   287463.78  1.317764e+06  \n",
      "3326   1.9600   297727.88  1.337719e+06  \n",
      "3327  -4.3700   419196.74  1.880503e+06  \n",
      "3328  -0.8100   425048.32  1.981445e+06  \n",
      "3329  38.4300  1977633.51  9.500303e+06  \n",
      "\n",
      "[3330 rows x 11 columns]\n"
     ]
    }
   ],
   "source": [
    "PA_daily = pro.query('daily', ts_code = '601318.SH')\n",
    "print(PA_daily)\n",
    "PA_daily_df = spark.createDataFrame(PA_daily)\n",
    "PA_daily_df.write.mode('overwrite').parquet(\"hdfs://localhost:9999/user/stock/pa_daily\")"
   ],
   "metadata": {
    "collapsed": false,
    "pycharm": {
     "name": "#%%\n"
    }
   }
  },
  {
   "cell_type": "code",
   "execution_count": 54,
   "outputs": [
    {
     "name": "stdout",
     "output_type": "stream",
     "text": [
      "+---------+----------+-----+-----+-----+-----+---------+------+-------+----------+--------------+\n",
      "|  ts_code|trade_date| open| high|  low|close|pre_close|change|pct_chg|       vol|        amount|\n",
      "+---------+----------+-----+-----+-----+-----+---------+------+-------+----------+--------------+\n",
      "|601318.SH|  20190529| 77.5|80.98|77.18|79.78|    78.19|  1.59| 2.0335| 968273.16|   7677708.159|\n",
      "|601318.SH|  20190528|77.44|78.77|77.21|78.19|    77.18|  1.01| 1.3086| 893839.92|   6978721.843|\n",
      "|601318.SH|  20190527|76.25|77.66|75.35|77.18|     76.5|  0.68| 0.8889| 589731.73|   4515690.456|\n",
      "|601318.SH|  20190524| 75.9|77.27| 75.8| 76.5|    75.44|  1.06| 1.4051| 512353.15|   3923969.868|\n",
      "|601318.SH|  20190523| 76.5|76.83|75.05|75.44|    76.54|  -1.1|-1.4372| 645670.76|   4884305.938|\n",
      "|601318.SH|  20190522|78.22| 78.5| 77.2|77.64|     78.2| -0.56|-0.7161| 516731.93|   4013374.792|\n",
      "|601318.SH|  20190521|78.05|79.25|77.68| 78.2|    77.87|  0.33| 0.4238| 630197.96|   4945455.898|\n",
      "|601318.SH|  20190520| 78.5|79.28|77.19|77.87|     79.1| -1.23| -1.555|  745003.9|   5810214.619|\n",
      "|601318.SH|  20190517|81.06| 81.2|78.98| 79.1|    80.97| -1.87|-2.3095| 685802.02|   5464921.484|\n",
      "|601318.SH|  20190516|80.82|81.53| 80.0|80.97|    80.54|  0.43| 0.5339| 630831.36|   5101228.351|\n",
      "|601318.SH|  20190515|78.95|81.37| 78.9|80.54|     78.3|  2.24| 2.8608| 803300.24|    6430783.48|\n",
      "|601318.SH|  20190514|77.96| 79.4|77.85| 78.3|    78.65| -0.35| -0.445| 782781.37|   6165448.232|\n",
      "|601318.SH|  20190513|79.25|80.18| 78.5|78.65|    81.38| -2.73|-3.3546| 842350.81|   6668703.693|\n",
      "|601318.SH|  20190510|77.95|81.87| 77.3|81.38|    76.66|  4.72| 6.1571|1392098.28|1.1083158281E7|\n",
      "|601318.SH|  20190509|78.26|78.26|76.11|76.66|    78.78| -2.12| -2.691|1125721.86|   8689046.105|\n",
      "|601318.SH|  20190508|78.73|80.55|78.38|78.78|    81.17| -2.39|-2.9444| 868375.72|   6904377.645|\n",
      "|601318.SH|  20190507|81.78|82.28|79.89|81.17|     81.2| -0.03|-0.0369| 974951.29|   7910860.379|\n",
      "|601318.SH|  20190506| 82.8| 83.6|79.66| 81.2|     86.1|  -4.9|-5.6911|1808609.45|1.4725465894E7|\n",
      "|601318.SH|  20190430| 86.5|87.48|84.53| 86.1|    86.43| -0.33|-0.3818| 917902.02|   7894165.649|\n",
      "|601318.SH|  20190429|83.88|87.13| 83.3|86.43|    83.11|  3.32| 3.9947| 946576.03|   8097224.931|\n",
      "+---------+----------+-----+-----+-----+-----+---------+------+-------+----------+--------------+\n",
      "only showing top 20 rows\n",
      "\n"
     ]
    }
   ],
   "source": [
    "test = spark.read.parquet(\"hdfs://localhost:9999/user/stock/pa_daily\")\n",
    "test.show()\n"
   ],
   "metadata": {
    "collapsed": false,
    "pycharm": {
     "name": "#%%\n"
    }
   }
  }
 ],
 "metadata": {
  "kernelspec": {
   "name": "pycharm-d79fbb03",
   "language": "python",
   "display_name": "PyCharm (SillyTraderScript)"
  },
  "language_info": {
   "codemirror_mode": {
    "name": "ipython",
    "version": 2
   },
   "file_extension": ".py",
   "mimetype": "text/x-python",
   "name": "python",
   "nbconvert_exporter": "python",
   "pygments_lexer": "ipython2",
   "version": "2.7.6"
  }
 },
 "nbformat": 4,
 "nbformat_minor": 0
}
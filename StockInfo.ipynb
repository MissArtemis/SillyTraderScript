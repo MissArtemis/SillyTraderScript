{
 "cells": [
  {
   "cell_type": "code",
   "execution_count": 20,
   "metadata": {
    "collapsed": true
   },
   "outputs": [],
   "source": [
    "import tushare as ts\n",
    "ts.set_token('8df6b825b87018ded5c09457e749cd1430d60febc9ab45d699eb0aab')\n",
    "pro = ts.pro_api()"
   ]
  },
  {
   "cell_type": "code",
   "execution_count": 21,
   "outputs": [
    {
     "name": "stdout",
     "output_type": "stream",
     "text": [
      "        ts_code  symbol      name area industry market list_date\n",
      "0     000001.SZ  000001      平安银行   深圳       银行     主板  19910403\n",
      "1     000002.SZ  000002       万科A   深圳     全国地产     主板  19910129\n",
      "2     000004.SZ  000004      国华网安   深圳      互联网     主板  19910114\n",
      "3     000005.SZ  000005      世纪星源   深圳     环境保护     主板  19901210\n",
      "4     000006.SZ  000006      深振业A   深圳     区域地产     主板  19920427\n",
      "...         ...     ...       ...  ...      ...    ...       ...\n",
      "4157  688777.SH  688777      中控技术   浙江     软件服务    科创板  20201124\n",
      "4158  688788.SH  688788      科思科技   深圳     通信设备    科创板  20201022\n",
      "4159  688819.SH  688819      天能股份   浙江     电气设备    科创板  20210118\n",
      "4160  688981.SH  688981    中芯国际-U   上海      半导体    科创板  20200716\n",
      "4161  689009.SH  689009  九号公司-UWD   北京     专用机械    CDR  20201029\n",
      "\n",
      "[4162 rows x 7 columns]\n"
     ]
    }
   ],
   "source": [
    "# Start get stock info\n",
    "stockBasic = pro.query('stock_basic')\n",
    "print(stockBasic)"
   ],
   "metadata": {
    "collapsed": false,
    "pycharm": {
     "name": "#%%\n"
    }
   }
  },
  {
   "cell_type": "code",
   "execution_count": 22,
   "outputs": [
    {
     "data": {
      "text/plain": "DataFrame[]"
     },
     "execution_count": 22,
     "metadata": {},
     "output_type": "execute_result"
    }
   ],
   "source": [
    "#write into DB\n",
    "from pyspark.sql import SparkSession\n",
    "from pyspark.sql import SQLContext\n",
    "spark = SparkSession.builder.appName(\"insertData\").config(\"hive.metastore.uris\", \"thrift://localhost:9083\").enableHiveSupport().getOrCreate()\n",
    "stockBasicDF = spark.createDataFrame(stockBasic)\n",
    "stockBasicDF.createOrReplaceTempView(\"stock_basic_tmp\")\n",
    "# spark.sql(\"create database sillytrader\")\n",
    "# spark.sql(\"create table sillytrader.stock_basic as select * from stock_basic_tmp\")"
   ],
   "metadata": {
    "collapsed": false,
    "pycharm": {
     "name": "#%%\n"
    }
   }
  },
  {
   "cell_type": "code",
   "execution_count": null,
   "outputs": [],
   "source": [],
   "metadata": {
    "collapsed": false,
    "pycharm": {
     "name": "#%%\n"
    }
   }
  }
 ],
 "metadata": {
  "kernelspec": {
   "name": "pycharm-d79fbb03",
   "language": "python",
   "display_name": "PyCharm (SillyTraderScript)"
  },
  "language_info": {
   "codemirror_mode": {
    "name": "ipython",
    "version": 2
   },
   "file_extension": ".py",
   "mimetype": "text/x-python",
   "name": "python",
   "nbconvert_exporter": "python",
   "pygments_lexer": "ipython2",
   "version": "2.7.6"
  }
 },
 "nbformat": 4,
 "nbformat_minor": 0
}